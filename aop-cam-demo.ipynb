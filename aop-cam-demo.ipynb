{
 "cells": [
  {
   "cell_type": "markdown",
   "metadata": {},
   "source": [
    "# AOP CAM Demo, March 17, 2020\n",
    "\n",
    "Introductory text.\n",
    "\n",
    "## Shared code\n",
    "\n",
    "Each request will need to be encoded as a JSON object and sent to our API."
   ]
  },
  {
   "cell_type": "code",
   "execution_count": 4,
   "metadata": {},
   "outputs": [],
   "source": [
    "import requests\n",
    "import json\n",
    "\n",
    "def getRequest(query):\n",
    "    endpoint = \"http://robokop.renci.org:6434/query\"\n",
    "    r = requests.post(endpoint, json=query)\n",
    "    result = r.json()\n",
    "    resultGraph = result[\"knowledge_graph\"]\n",
    "    return resultGraph"
   ]
  },
  {
   "cell_type": "markdown",
   "metadata": {},
   "source": [
    "We also need to convert our graph format into one that is understandable by the Cytoscape visualization library we use."
   ]
  },
  {
   "cell_type": "code",
   "execution_count": 39,
   "metadata": {},
   "outputs": [],
   "source": [
    "from cyjupyter import Cytoscape\n",
    "\n",
    "def reasonerGraphToCytoscape(graph):\n",
    "    csGraph = {}\n",
    "    nodes = []\n",
    "    edges = []\n",
    "    for node in graph[\"nodes\"]:\n",
    "        csNode = {}\n",
    "        csNode[\"data\"] = {\"id\": node[\"id\"], \"label\": node.get(\"label\", node.get(\"id\"))}\n",
    "        nodes.append(csNode)\n",
    "    for edge in graph[\"edges\"]:\n",
    "        csEdge = {\n",
    "            \"data\": {\n",
    "                \"label\": edge[\"id\"],\n",
    "                \"id\": edge[\"id\"],\n",
    "                \"source\": edge[\"source_id\"],\n",
    "                \"target\": edge[\"target_id\"]\n",
    "            }\n",
    "        }\n",
    "        edges.append(csEdge)\n",
    "    csGraph[\"elements\"] = {\"nodes\": nodes, \"edges\": edges}\n",
    "    csGraph[\"style\"] = [\n",
    "        {\n",
    "            \"selector\": \"node\",\n",
    "            \"style\": {\n",
    "                \"label\": \"data(label)\",\n",
    "                \"color\": \"white\",\n",
    "                \"background-color\": \"#60f\",\n",
    "                \"shape\": \"rectangle\",\n",
    "                \"text-valign\": \"center\",\n",
    "                \"width\": \"20em\",\n",
    "                \"height\": \"5em\",\n",
    "                \"text-wrap\": \"wrap\"\n",
    "            }\n",
    "        },\n",
    "        {\n",
    "            \"selector\": \"edge\",\n",
    "            \"style\": {\n",
    "                \"curve-style\": \"unbundled-bezier\",\n",
    "                \"control-point-distances\": [\n",
    "                    -20,\n",
    "                    20\n",
    "                ],\n",
    "                \"control-point-weights\": [\n",
    "                    0.5\n",
    "                ],\n",
    "                \"content\": \"data(label)\",\n",
    "                \"line-color\": \"#808080\",\n",
    "                \"target-arrow-color\": \"#808080\",\n",
    "                \"target-arrow-shape\": \"triangle\",\n",
    "                \"target-arrow-fill\": \"filled\"\n",
    "            }\n",
    "        }\n",
    "    ]\n",
    "                       \n",
    "    # print(json.dumps(csGraph, indent=4))\n",
    "    return csGraph"
   ]
  },
  {
   "cell_type": "markdown",
   "metadata": {},
   "source": [
    "# Example query 1\n",
    "\n",
    "In this query, we look for biological processes that have AXL receptor tyrosine kinase ([NCBIGENE:558](https://www.ncbi.nlm.nih.gov/gene/558)) as a participant."
   ]
  },
  {
   "cell_type": "code",
   "execution_count": 40,
   "metadata": {},
   "outputs": [],
   "source": [
    "query = json.loads(\"\"\"\n",
    "{\n",
    "  \"message\": {\n",
    "    \"query_graph\": {\n",
    "      \"nodes\": [\n",
    "        {\n",
    "          \"id\": \"n0\",\n",
    "          \"type\": \"gene\",\n",
    "          \"curie\": \"NCBIGENE:558\",\n",
    "          \"label\": \"NCBIGENE:558\"\n",
    "        },\n",
    "        {\n",
    "          \"id\": \"n1\",\n",
    "          \"type\": \"biological_process\",\n",
    "          \"label\": \"biological_process\"\n",
    "        }\n",
    "      ],\n",
    "      \"edges\": [\n",
    "        {\n",
    "          \"id\": \"e0\",\n",
    "          \"source_id\": \"n1\",\n",
    "          \"target_id\": \"n0\",\n",
    "          \"type\": \"has_participant\",\n",
    "          \"label\": \"has_participant\"\n",
    "        }\n",
    "      ]\n",
    "    }\n",
    "  }\n",
    "}\n",
    "\"\"\")"
   ]
  },
  {
   "cell_type": "markdown",
   "metadata": {},
   "source": [
    "We can visualize this data."
   ]
  },
  {
   "cell_type": "code",
   "execution_count": 41,
   "metadata": {},
   "outputs": [
    {
     "data": {
      "application/vnd.jupyter.widget-view+json": {
       "model_id": "b2b8c6cb303a48709ee925463dd2f64c",
       "version_major": 2,
       "version_minor": 0
      },
      "text/plain": [
       "Cytoscape(data={'elements': {'nodes': [{'data': {'id': 'n0', 'label': 'NCBIGENE:558'}}, {'data': {'id': 'n1', …"
      ]
     },
     "metadata": {},
     "output_type": "display_data"
    }
   ],
   "source": [
    "queryData = reasonerGraphToCytoscape(query[\"message\"][\"query_graph\"])\n",
    "Cytoscape(data=queryData, visual_style=queryData[\"style\"], layout_name=\"breadthfirst\", layout={\"height\": \"700px\"})"
   ]
  },
  {
   "cell_type": "markdown",
   "metadata": {},
   "source": [
    "We can query our service with this query, and examine the results."
   ]
  },
  {
   "cell_type": "code",
   "execution_count": 42,
   "metadata": {
    "scrolled": false
   },
   "outputs": [
    {
     "name": "stdout",
     "output_type": "stream",
     "text": [
      "{\n",
      "    \"nodes\": [\n",
      "        {\n",
      "            \"id\": \"obo:BFO_0000002\",\n",
      "            \"name\": null,\n",
      "            \"type\": []\n",
      "        },\n",
      "        {\n",
      "            \"id\": \"GO:0010467\",\n",
      "            \"name\": \"gene expression\",\n",
      "            \"type\": [\n",
      "                \"biological_process\",\n",
      "                \"biological_process_or_activity\",\n",
      "                \"occurrent\"\n",
      "            ]\n",
      "        },\n",
      "        {\n",
      "            \"id\": \"NCBIGENE:558\",\n",
      "            \"name\": \"AXL\",\n",
      "            \"type\": [\n",
      "                \"macromolecular_machine\",\n",
      "                \"gene\",\n",
      "                \"gene_or_gene_product\"\n",
      "            ]\n",
      "        },\n",
      "        {\n",
      "            \"id\": \"GO:0016310\",\n",
      "            \"name\": \"phosphorylation\",\n",
      "            \"type\": [\n",
      "                \"biological_process\",\n",
      "                \"biological_process_or_activity\",\n",
      "                \"occurrent\"\n",
      "            ]\n",
      "        },\n",
      "        {\n",
      "            \"id\": \"GO:0032259\",\n",
      "            \"name\": \"methylation\",\n",
      "            \"type\": [\n",
      "                \"biological_process\",\n",
      "                \"biological_process_or_activity\",\n",
      "                \"occurrent\"\n",
      "            ]\n",
      "        }\n",
      "    ],\n",
      "    \"edges\": [\n",
      "        {\n",
      "            \"id\": \"e0000\",\n",
      "            \"type\": \"has_participant\",\n",
      "            \"source_id\": \"GO:0010467\",\n",
      "            \"target_id\": \"obo:BFO_0000002\"\n",
      "        },\n",
      "        {\n",
      "            \"id\": \"e0001\",\n",
      "            \"type\": \"has_participant\",\n",
      "            \"source_id\": \"GO:0010467\",\n",
      "            \"target_id\": \"NCBIGENE:558\"\n",
      "        },\n",
      "        {\n",
      "            \"id\": \"e0002\",\n",
      "            \"type\": \"has_participant\",\n",
      "            \"source_id\": \"GO:0016310\",\n",
      "            \"target_id\": \"obo:BFO_0000002\"\n",
      "        },\n",
      "        {\n",
      "            \"id\": \"e0003\",\n",
      "            \"type\": \"has_participant\",\n",
      "            \"source_id\": \"GO:0016310\",\n",
      "            \"target_id\": \"NCBIGENE:558\"\n",
      "        },\n",
      "        {\n",
      "            \"id\": \"e0004\",\n",
      "            \"type\": \"has_participant\",\n",
      "            \"source_id\": \"GO:0032259\",\n",
      "            \"target_id\": \"obo:BFO_0000002\"\n",
      "        },\n",
      "        {\n",
      "            \"id\": \"e0005\",\n",
      "            \"type\": \"has_participant\",\n",
      "            \"source_id\": \"GO:0032259\",\n",
      "            \"target_id\": \"NCBIGENE:558\"\n",
      "        }\n",
      "    ]\n",
      "}\n"
     ]
    },
    {
     "data": {
      "application/vnd.jupyter.widget-view+json": {
       "model_id": "7dde578559184ea3a6de859dc247ca54",
       "version_major": 2,
       "version_minor": 0
      },
      "text/plain": [
       "Cytoscape(data={'elements': {'nodes': [{'data': {'id': 'obo:BFO_0000002', 'label': 'obo:BFO_0000002'}}, {'data…"
      ]
     },
     "metadata": {},
     "output_type": "display_data"
    }
   ],
   "source": [
    "resultGraph = getRequest(query)\n",
    "print(json.dumps(resultGraph, indent=4))\n",
    "Cytoscape(data=reasonerGraphToCytoscape(resultGraph), visual_style=queryData[\"style\"], layout_name='breadthfirst', layout={\"height\": \"700px\"})"
   ]
  },
  {
   "cell_type": "code",
   "execution_count": null,
   "metadata": {},
   "outputs": [],
   "source": []
  }
 ],
 "metadata": {
  "kernelspec": {
   "display_name": "Python 3",
   "language": "python",
   "name": "python3"
  },
  "language_info": {
   "codemirror_mode": {
    "name": "ipython",
    "version": 3
   },
   "file_extension": ".py",
   "mimetype": "text/x-python",
   "name": "python",
   "nbconvert_exporter": "python",
   "pygments_lexer": "ipython3",
   "version": "3.8.0"
  }
 },
 "nbformat": 4,
 "nbformat_minor": 4
}

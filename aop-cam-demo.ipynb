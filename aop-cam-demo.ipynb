{
 "cells": [
  {
   "cell_type": "code",
   "execution_count": 61,
   "metadata": {},
   "outputs": [],
   "source": [
    "import requests\n",
    "import json\n",
    "\n",
    "endpoint = \"http://robokop.renci.org:6434/query\"\n",
    "\n",
    "query = json.loads(\"\"\"\n",
    "{\n",
    "  \"message\": {\n",
    "    \"query_graph\": {\n",
    "      \"nodes\": [\n",
    "        {\n",
    "          \"id\": \"n0\",\n",
    "          \"type\": \"gene\",\n",
    "          \"curie\": \"NCBIGENE:558\"\n",
    "        },\n",
    "        {\n",
    "          \"id\": \"n1\",\n",
    "          \"type\": \"biological_process\"\n",
    "        }\n",
    "      ],\n",
    "      \"edges\": [\n",
    "        {\n",
    "          \"id\": \"e0\",\n",
    "          \"source_id\": \"n1\",\n",
    "          \"target_id\": \"n0\",\n",
    "          \"type\": \"has_participant\"\n",
    "        }\n",
    "      ]\n",
    "    }\n",
    "  }\n",
    "}\n",
    "\"\"\")\n",
    "queryGraph = query[\"message\"][\"query_graph\"]\n",
    "r = requests.post(endpoint, json=query)\n",
    "result = r.json()\n",
    "resultGraph = result[\"knowledge_graph\"]"
   ]
  },
  {
   "cell_type": "code",
   "execution_count": 71,
   "metadata": {},
   "outputs": [
    {
     "name": "stdout",
     "output_type": "stream",
     "text": [
      "{'elements': {'nodes': [{'data': {'id': 'n0'}}, {'data': {'id': 'n1'}}], 'edges': [{'data': {'id': 'e0', 'source': 'n1', 'target': 'n0'}}]}, 'style': [{'selector': 'node', 'style': {'label': 'data(id)'}}, {'selector': 'edge', 'css': {'curve-style': 'bezier', 'content': 'data(id)', 'line-color': 'red', 'target-arrow-color': 'red', 'target-arrow-shape': 'triangle', 'target-arrow-fill': 'filled'}}]}\n"
     ]
    },
    {
     "data": {
      "application/vnd.jupyter.widget-view+json": {
       "model_id": "e674ea3659c44f14ab4831227af23655",
       "version_major": 2,
       "version_minor": 0
      },
      "text/plain": [
       "Cytoscape(data={'elements': {'nodes': [{'data': {'id': 'n0'}}, {'data': {'id': 'n1'}}], 'edges': [{'data': {'i…"
      ]
     },
     "metadata": {},
     "output_type": "display_data"
    }
   ],
   "source": [
    "from cyjupyter import Cytoscape\n",
    "\n",
    "def reasonerGraphToCytoscape(graph):\n",
    "    csGraph = {}\n",
    "    nodes = []\n",
    "    edges = []\n",
    "    for node in graph[\"nodes\"]:\n",
    "        csNode = {}\n",
    "        csNode[\"data\"] = {\"id\": node[\"id\"]}\n",
    "        nodes.append(csNode)\n",
    "    for edge in graph[\"edges\"]:\n",
    "        csEdge = {\n",
    "            \"data\": {\n",
    "                \"id\": edge[\"id\"],\n",
    "                \"source\": edge[\"source_id\"],\n",
    "                \"target\": edge[\"target_id\"]\n",
    "            }\n",
    "        }\n",
    "        edges.append(csEdge)\n",
    "    csGraph[\"elements\"] = {\"nodes\": nodes, \"edges\": edges}\n",
    "    csGraph[\"style\"] = [\n",
    "        { \"selector\": 'node', \"style\": {'label': 'data(id)'} },\n",
    "        {\"selector\": \"edge\", \"css\": {'curve-style': 'bezier', 'content': 'data(id)', 'line-color': 'red', 'target-arrow-color': 'red', 'target-arrow-shape': 'triangle', 'target-arrow-fill': 'filled'} }\n",
    "    ]\n",
    "                       \n",
    "    print(csGraph)\n",
    "    return csGraph\n",
    "queryData = reasonerGraphToCytoscape(queryGraph)\n",
    "Cytoscape(data=queryData, visual_style=queryData[\"style\"], layout={\"height\": \"700px\"})"
   ]
  },
  {
   "cell_type": "code",
   "execution_count": 72,
   "metadata": {
    "scrolled": false
   },
   "outputs": [
    {
     "name": "stdout",
     "output_type": "stream",
     "text": [
      "{'elements': {'nodes': [{'data': {'id': 'NCBIGENE:558'}}, {'data': {'id': 'GO:0010467'}}, {'data': {'id': 'SO:0000704'}}, {'data': {'id': 'GO:0016310'}}, {'data': {'id': 'GO:0032259'}}], 'edges': [{'data': {'id': 'e0000', 'source': 'GO:0010467', 'target': 'NCBIGENE:558'}}, {'data': {'id': 'e0001', 'source': 'GO:0010467', 'target': 'SO:0000704'}}, {'data': {'id': 'e0002', 'source': 'GO:0016310', 'target': 'NCBIGENE:558'}}, {'data': {'id': 'e0003', 'source': 'GO:0016310', 'target': 'SO:0000704'}}, {'data': {'id': 'e0004', 'source': 'GO:0032259', 'target': 'NCBIGENE:558'}}, {'data': {'id': 'e0005', 'source': 'GO:0032259', 'target': 'SO:0000704'}}]}, 'style': [{'selector': 'node', 'style': {'label': 'data(id)'}}, {'selector': 'edge', 'css': {'curve-style': 'bezier', 'content': 'data(id)', 'line-color': 'red', 'target-arrow-color': 'red', 'target-arrow-shape': 'triangle', 'target-arrow-fill': 'filled'}}]}\n"
     ]
    },
    {
     "data": {
      "application/vnd.jupyter.widget-view+json": {
       "model_id": "a81de1cbbaa4433a8fce8a4134e23463",
       "version_major": 2,
       "version_minor": 0
      },
      "text/plain": [
       "Cytoscape(data={'elements': {'nodes': [{'data': {'id': 'NCBIGENE:558'}}, {'data': {'id': 'GO:0010467'}}, {'dat…"
      ]
     },
     "metadata": {},
     "output_type": "display_data"
    }
   ],
   "source": [
    "Cytoscape(data=reasonerGraphToCytoscape(resultGraph), visual_style=queryData[\"style\"], layout_name='breadthfirst', layout={\"height\": \"700px\"})"
   ]
  },
  {
   "cell_type": "code",
   "execution_count": null,
   "metadata": {},
   "outputs": [],
   "source": []
  }
 ],
 "metadata": {
  "kernelspec": {
   "display_name": "Python 3",
   "language": "python",
   "name": "python3"
  },
  "language_info": {
   "codemirror_mode": {
    "name": "ipython",
    "version": 3
   },
   "file_extension": ".py",
   "mimetype": "text/x-python",
   "name": "python",
   "nbconvert_exporter": "python",
   "pygments_lexer": "ipython3",
   "version": "3.7.7"
  }
 },
 "nbformat": 4,
 "nbformat_minor": 4
}
